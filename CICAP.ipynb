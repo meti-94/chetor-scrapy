{
 "cells": [
  {
   "cell_type": "code",
   "execution_count": 2,
   "metadata": {},
   "outputs": [
    {
     "name": "stderr",
     "output_type": "stream",
     "text": [
      "C:\\Users\\meti\\anaconda3\\envs\\cicap_presentation\\lib\\site-packages\\tqdm\\std.py:699: FutureWarning: The Panel class is removed from pandas. Accessing it from the top-level namespace will also be removed in the next version\n",
      "  from pandas import Panel\n"
     ]
    }
   ],
   "source": [
    "import pandas as pd\n",
    "import re\n",
    "import requests\n",
    "import json\n",
    "from tqdm import tqdm, notebook\n",
    "notebook.tqdm.pandas()\n",
    "from collections import Counter"
   ]
  },
  {
   "cell_type": "markdown",
   "metadata": {},
   "source": [
    "### خواندن دادگان از فایل"
   ]
  },
  {
   "cell_type": "code",
   "execution_count": 2,
   "metadata": {},
   "outputs": [
    {
     "name": "stdout",
     "output_type": "stream",
     "text": [
      "671\n",
      "671\n"
     ]
    }
   ],
   "source": [
    "data = pd.read_csv('chetor.csv')\n",
    "print(len(data))\n",
    "data = data.dropna(subset=['body', 'lastmodified'])\n",
    "sample = data.sample(n=1)\n",
    "print(len(data))"
   ]
  },
  {
   "cell_type": "markdown",
   "metadata": {},
   "source": [
    "### پردازش متون جمع آوری شده "
   ]
  },
  {
   "cell_type": "code",
   "execution_count": 3,
   "metadata": {},
   "outputs": [],
   "source": [
    "stopwords_path = 'stopwords.txt'\n",
    "def eliminate_non_persian_chars(text):\n",
    "    space_codepoints ='\\u0020\\u2000-\\u200F\\u2028-\\u202F'\n",
    "    persian_alpha_codepoints = '\\u0621-\\u0628\\u062A-\\u063A\\u0641-\\u0642\\u0644-\\u0648\\u064E-\\u0651\\u0655\\u067E\\u0686\\u0698\\u06A9\\u06AF\\u06BE\\u06CC'\n",
    "    regex = re.compile(f'[^{persian_alpha_codepoints+space_codepoints}]')\n",
    "    persian_text = regex.sub('', text)\n",
    "    regex = re.compile('\\s+')\n",
    "    output_text = regex.sub(' ', persian_text)\n",
    "    return output_text\n",
    "def eliminate_stopwords(text):\n",
    "    stopwords = open(stopwords_path, 'r', encoding='utf-8').read().split('\\n')\n",
    "    stopwords = [item.strip() for item in stopwords]\n",
    "    tokenized = text.split(' ')\n",
    "    output_text = []\n",
    "    for token in tokenized:\n",
    "        if token not in stopwords:\n",
    "            output_text.append(token)\n",
    "    return ' '.join(output_text)"
   ]
  },
  {
   "cell_type": "code",
   "execution_count": 5,
   "metadata": {},
   "outputs": [
    {
     "data": {
      "application/vnd.jupyter.widget-view+json": {
       "model_id": "",
       "version_major": 2,
       "version_minor": 0
      },
      "text/plain": [
       "HBox(children=(HTML(value=''), FloatProgress(value=0.0, max=671.0), HTML(value='')))"
      ]
     },
     "metadata": {},
     "output_type": "display_data"
    },
    {
     "name": "stdout",
     "output_type": "stream",
     "text": [
      "\n"
     ]
    }
   ],
   "source": [
    "data['cleaned_body'] = data.body.progress_apply(\n",
    "                            lambda text:eliminate_stopwords(eliminate_non_persian_chars(text)))"
   ]
  },
  {
   "cell_type": "markdown",
   "metadata": {},
   "source": [
    "### مشخص کردن عبارت های کلیدی"
   ]
  },
  {
   "cell_type": "code",
   "execution_count": 4,
   "metadata": {},
   "outputs": [],
   "source": [
    "def keyphrases(text):\n",
    "    # static parts \n",
    "    url = \"http://api.cicap.ir/keyphrase/v1.0/rapiddetect\"\n",
    "    method = \"POST\"\n",
    "    headers = {\n",
    "        'Content-Type': 'text/plain'\n",
    "    }\n",
    "    # dynamic part \n",
    "    payload='''{\\r\\\"param\\\":\\\"\n",
    "               {\\\\\\\"lang\\\\\\\":\\\\\\\"fa\\\\\\\",\\\\\\\"docType\\\\\\\":\\\\\\\"1\\\\\\\",\n",
    "               \\\\\\\"docTitle\\\\\\\":\\\\\\\"\\\\\\\",\\\\\\\"docSummary\\\\\\\":\\\\\\\"\\\\\\\",\n",
    "               \\\\\\\"docBody\\\\\\\":\\\\\\\"%s\\\\\\\"}\\\",\n",
    "               \\\"token\\\":\\\"11111111-1111-1111-1111-111111111111\\\",\n",
    "               \\\"priority\\\":1,\n",
    "               \\\"senderAddress\\\":\\\"sampleAddress.com\\\"}'''%(text)\n",
    "    response = requests.request(method, url, headers=headers, data=payload.encode('utf-8'))\n",
    "    \n",
    "    try:\n",
    "        data = response.json()\n",
    "        data = eval(eval(data['data'])['result'])['keyPhrase']\n",
    "        phrases = [item['key'] for item in data]\n",
    "        return phrases\n",
    "    except:\n",
    "        return []\n",
    "    \n"
   ]
  },
  {
   "cell_type": "code",
   "execution_count": 7,
   "metadata": {},
   "outputs": [
    {
     "data": {
      "application/vnd.jupyter.widget-view+json": {
       "model_id": "f4c665468c4440e686b6c01d02800ad5",
       "version_major": 2,
       "version_minor": 0
      },
      "text/plain": [
       "HBox(children=(HTML(value=''), FloatProgress(value=0.0, max=671.0), HTML(value='')))"
      ]
     },
     "metadata": {},
     "output_type": "display_data"
    },
    {
     "name": "stdout",
     "output_type": "stream",
     "text": [
      "\n"
     ]
    }
   ],
   "source": [
    "data['key_phrases'] = data.cleaned_body.progress_apply(\n",
    "                            lambda text:keyphrases(text))"
   ]
  },
  {
   "cell_type": "markdown",
   "metadata": {},
   "source": [
    "### ذخیره سازی داده ها"
   ]
  },
  {
   "cell_type": "code",
   "execution_count": 10,
   "metadata": {},
   "outputs": [
    {
     "data": {
      "text/plain": [
       "22301"
      ]
     },
     "execution_count": 10,
     "metadata": {},
     "output_type": "execute_result"
    }
   ],
   "source": [
    "data.to_csv('new_data.csv')"
   ]
  },
  {
   "cell_type": "markdown",
   "metadata": {},
   "source": [
    "### خواندن دادگان برای آزمایش اصلی"
   ]
  },
  {
   "cell_type": "code",
   "execution_count": 3,
   "metadata": {},
   "outputs": [
    {
     "name": "stderr",
     "output_type": "stream",
     "text": [
      "100%|██████████████████████████████████████████████████████████████████████████████| 46/46 [00:00<00:00, 522.70it/s]\n"
     ]
    }
   ],
   "source": [
    "df = pd.read_csv('proper_data.csv')\n",
    "df = df[df['lastmodified']!='lastmodified']\n",
    "df['bin'] = df['lastmodified'].apply(\n",
    "    lambda x:' '.join(x.split('-')[:2]))\n",
    "grouped = df.groupby('bin')\n",
    "result = []\n",
    "for group_name, df_group in tqdm(grouped):\n",
    "    tags = df_group.tags.to_list()\n",
    "    tags = Counter(tags)\n",
    "    keyphrases = df_group.key_phrases.apply(lambda x:eval(x)).to_list()\n",
    "    keyphrases = [item for sublist in keyphrases for item in sublist]\n",
    "    keyphrases = Counter(keyphrases)\n",
    "    keyphrases = {k: v for k, v in sorted(keyphrases.items(), \n",
    "                                          key=lambda item: item[1],\n",
    "                                          reverse=True)}\n",
    "    raw_tags = {}; counter=0\n",
    "    for k, v in keyphrases.items():\n",
    "        counter+=1\n",
    "        if counter>len(keyphrases)//5 or counter>=20:\n",
    "            break\n",
    "        raw_tags[k]=v\n",
    "    result.append([group_name, list(raw_tags.keys()), list(tags.keys())])\n",
    "result_df = pd.DataFrame(result, columns =['زمان انتشار', 'برچسب های اصلی', 'برچسب های پیش بینی شده']) "
   ]
  },
  {
   "cell_type": "code",
   "execution_count": 4,
   "metadata": {},
   "outputs": [
    {
     "data": {
      "text/html": [
       "<div>\n",
       "<style scoped>\n",
       "    .dataframe tbody tr th:only-of-type {\n",
       "        vertical-align: middle;\n",
       "    }\n",
       "\n",
       "    .dataframe tbody tr th {\n",
       "        vertical-align: top;\n",
       "    }\n",
       "\n",
       "    .dataframe thead th {\n",
       "        text-align: right;\n",
       "    }\n",
       "</style>\n",
       "<table border=\"1\" class=\"dataframe\">\n",
       "  <thead>\n",
       "    <tr style=\"text-align: right;\">\n",
       "      <th></th>\n",
       "      <th>زمان انتشار</th>\n",
       "      <th>برچسب های اصلی</th>\n",
       "      <th>برچسب های پیش بینی شده</th>\n",
       "    </tr>\n",
       "  </thead>\n",
       "  <tbody>\n",
       "    <tr>\n",
       "      <th>6</th>\n",
       "      <td>2017 08</td>\n",
       "      <td>[مشکلات جلسه مطرح جلسه, جلسه جلسه, یادآوری جلس...</td>\n",
       "      <td>[ارتباط موثر,اصول سخنرانی,طرز صحبت کردن, ارگون...</td>\n",
       "    </tr>\n",
       "    <tr>\n",
       "      <th>5</th>\n",
       "      <td>2017 06</td>\n",
       "      <td>[سلامتی کار زندگی آزادی, زندگی مرور کلیدهای مو...</td>\n",
       "      <td>[افراد موفق,ایجاد انگیزه,عبارات الهام بخش, موف...</td>\n",
       "    </tr>\n",
       "    <tr>\n",
       "      <th>15</th>\n",
       "      <td>2018 06</td>\n",
       "      <td>[زندگی تان مشاهده کتاب الکترونیکی, کنیداین کتا...</td>\n",
       "      <td>[nan, گران ترین کشورها, زنان قدرتمند,زنان موفق...</td>\n",
       "    </tr>\n",
       "    <tr>\n",
       "      <th>39</th>\n",
       "      <td>2020 06</td>\n",
       "      <td>[هدف زندگی عشق ورزیدن, هدف زندگی دوست حقیقی, پ...</td>\n",
       "      <td>[افزایش انگیزه, ذهن آرام,ذهن قدرتمند,لذت زندگی...</td>\n",
       "    </tr>\n",
       "    <tr>\n",
       "      <th>31</th>\n",
       "      <td>2019 10</td>\n",
       "      <td>[خواص ماسک, حیوانات دنیا واقعا خطرناک, فهرست خ...</td>\n",
       "      <td>[عجایب دنیا,ناشناخته های جهان, درمان بیماری ها...</td>\n",
       "    </tr>\n",
       "    <tr>\n",
       "      <th>30</th>\n",
       "      <td>2019 09</td>\n",
       "      <td>[خرید خرید صورت عمده, زمان خرید بودجه خریدتان,...</td>\n",
       "      <td>[آموزش پس انداز,برنامه ریزی مالی,صرفه جویی,مدی...</td>\n",
       "    </tr>\n",
       "    <tr>\n",
       "      <th>26</th>\n",
       "      <td>2019 05</td>\n",
       "      <td>[کیک کالری گرم, چربی گرم چربی اشباع نشده, چربی...</td>\n",
       "      <td>[دسرها,غذای کربوهیدرات دار, انواع سردرد,حالت ت...</td>\n",
       "    </tr>\n",
       "    <tr>\n",
       "      <th>11</th>\n",
       "      <td>2018 02</td>\n",
       "      <td>[آسان ترین کشورها مهاجرت ایتالیا, مهاجران پروس...</td>\n",
       "      <td>[مهاجرت آسان, قیمت خودرو, عشق ورزیدن,منتخب سرد...</td>\n",
       "    </tr>\n",
       "    <tr>\n",
       "      <th>17</th>\n",
       "      <td>2018 08</td>\n",
       "      <td>[جاذبه دیدنی نصف جهان, شادتر زندگی مجموعه صوتی...</td>\n",
       "      <td>[منتخب سردبیر,مهاجرت آسان,مهاجرت ارزان, مهاجرت...</td>\n",
       "    </tr>\n",
       "    <tr>\n",
       "      <th>27</th>\n",
       "      <td>2019 06</td>\n",
       "      <td>[فیلم خنده دار, فیلم تأثیرگذاری زندگی زنی, لیس...</td>\n",
       "      <td>[سرگرمی,فیلم سینمایی,معرفی فیلم, داستان جنگ,فی...</td>\n",
       "    </tr>\n",
       "  </tbody>\n",
       "</table>\n",
       "</div>"
      ],
      "text/plain": [
       "   زمان انتشار                                     برچسب های اصلی  \\\n",
       "6      2017 08  [مشکلات جلسه مطرح جلسه, جلسه جلسه, یادآوری جلس...   \n",
       "5      2017 06  [سلامتی کار زندگی آزادی, زندگی مرور کلیدهای مو...   \n",
       "15     2018 06  [زندگی تان مشاهده کتاب الکترونیکی, کنیداین کتا...   \n",
       "39     2020 06  [هدف زندگی عشق ورزیدن, هدف زندگی دوست حقیقی, پ...   \n",
       "31     2019 10  [خواص ماسک, حیوانات دنیا واقعا خطرناک, فهرست خ...   \n",
       "30     2019 09  [خرید خرید صورت عمده, زمان خرید بودجه خریدتان,...   \n",
       "26     2019 05  [کیک کالری گرم, چربی گرم چربی اشباع نشده, چربی...   \n",
       "11     2018 02  [آسان ترین کشورها مهاجرت ایتالیا, مهاجران پروس...   \n",
       "17     2018 08  [جاذبه دیدنی نصف جهان, شادتر زندگی مجموعه صوتی...   \n",
       "27     2019 06  [فیلم خنده دار, فیلم تأثیرگذاری زندگی زنی, لیس...   \n",
       "\n",
       "                               برچسب های پیش بینی شده  \n",
       "6   [ارتباط موثر,اصول سخنرانی,طرز صحبت کردن, ارگون...  \n",
       "5   [افراد موفق,ایجاد انگیزه,عبارات الهام بخش, موف...  \n",
       "15  [nan, گران ترین کشورها, زنان قدرتمند,زنان موفق...  \n",
       "39  [افزایش انگیزه, ذهن آرام,ذهن قدرتمند,لذت زندگی...  \n",
       "31  [عجایب دنیا,ناشناخته های جهان, درمان بیماری ها...  \n",
       "30  [آموزش پس انداز,برنامه ریزی مالی,صرفه جویی,مدی...  \n",
       "26  [دسرها,غذای کربوهیدرات دار, انواع سردرد,حالت ت...  \n",
       "11  [مهاجرت آسان, قیمت خودرو, عشق ورزیدن,منتخب سرد...  \n",
       "17  [منتخب سردبیر,مهاجرت آسان,مهاجرت ارزان, مهاجرت...  \n",
       "27  [سرگرمی,فیلم سینمایی,معرفی فیلم, داستان جنگ,فی...  "
      ]
     },
     "execution_count": 4,
     "metadata": {},
     "output_type": "execute_result"
    }
   ],
   "source": [
    "result_df.sample(n=10, random_state=44)"
   ]
  },
  {
   "cell_type": "code",
   "execution_count": 5,
   "metadata": {},
   "outputs": [],
   "source": [
    "result_df.to_excel('result.xlsx')"
   ]
  },
  {
   "cell_type": "code",
   "execution_count": null,
   "metadata": {},
   "outputs": [],
   "source": []
  }
 ],
 "metadata": {
  "kernelspec": {
   "display_name": "Python 3",
   "language": "python",
   "name": "python3"
  },
  "language_info": {
   "codemirror_mode": {
    "name": "ipython",
    "version": 3
   },
   "file_extension": ".py",
   "mimetype": "text/x-python",
   "name": "python",
   "nbconvert_exporter": "python",
   "pygments_lexer": "ipython3",
   "version": "3.8.5"
  }
 },
 "nbformat": 4,
 "nbformat_minor": 4
}
