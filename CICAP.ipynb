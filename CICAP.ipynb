{
 "cells": [
  {
   "cell_type": "code",
   "execution_count": 1,
   "metadata": {},
   "outputs": [
    {
     "name": "stderr",
     "output_type": "stream",
     "text": [
      "C:\\Users\\mehdi\\Anaconda3\\envs\\auto_tagger\\lib\\site-packages\\tqdm\\std.py:699: FutureWarning: The Panel class is removed from pandas. Accessing it from the top-level namespace will also be removed in the next version\n",
      "  from pandas import Panel\n"
     ]
    }
   ],
   "source": [
    "import pandas as pd\n",
    "import re\n",
    "import requests\n",
    "import json\n",
    "from tqdm import tqdm, notebook\n",
    "notebook.tqdm.pandas()\n",
    "from collections import Counter"
   ]
  },
  {
   "cell_type": "markdown",
   "metadata": {},
   "source": [
    "### خواندن دادگان از فایل"
   ]
  },
  {
   "cell_type": "code",
   "execution_count": 2,
   "metadata": {},
   "outputs": [
    {
     "data": {
      "text/html": [
       "<div>\n",
       "<style scoped>\n",
       "    .dataframe tbody tr th:only-of-type {\n",
       "        vertical-align: middle;\n",
       "    }\n",
       "\n",
       "    .dataframe tbody tr th {\n",
       "        vertical-align: top;\n",
       "    }\n",
       "\n",
       "    .dataframe thead th {\n",
       "        text-align: right;\n",
       "    }\n",
       "</style>\n",
       "<table border=\"1\" class=\"dataframe\">\n",
       "  <thead>\n",
       "    <tr style=\"text-align: right;\">\n",
       "      <th></th>\n",
       "      <th>author</th>\n",
       "      <th>body</th>\n",
       "      <th>comments</th>\n",
       "      <th>lastmodified</th>\n",
       "      <th>readin</th>\n",
       "      <th>slug</th>\n",
       "      <th>tags</th>\n",
       "      <th>title</th>\n",
       "    </tr>\n",
       "  </thead>\n",
       "  <tbody>\n",
       "    <tr>\n",
       "      <th>383</th>\n",
       "      <td>فاطمه زنگنه</td>\n",
       "      <td>&lt;div class=\"entry-content clearfix single-post...</td>\n",
       "      <td>[{'content': ['سلام مطالب مفید بودند ولی من فر...</td>\n",
       "      <td>2019-11-13T11:02:21+03:30</td>\n",
       "      <td>-</td>\n",
       "      <td>182804-%d9%85%d8%a7%d9%87%db%8c-%d9%87%d8%a7%d...</td>\n",
       "      <td>ترین های دنیا</td>\n",
       "      <td>۲۵ نوع از پرطرفدارترین ماهی های آکواریومی و شر...</td>\n",
       "    </tr>\n",
       "    <tr>\n",
       "      <th>314</th>\n",
       "      <td>حسام حسین پور</td>\n",
       "      <td>&lt;div class=\"entry-content clearfix single-post...</td>\n",
       "      <td>[{}]</td>\n",
       "      <td>2017-09-18T15:25:42+04:30</td>\n",
       "      <td>-</td>\n",
       "      <td>28358-%d8%b3%d8%a7%d8%ae%d8%aa%d8%a7%d8%b1-%d8...</td>\n",
       "      <td>رهبری سازمانی,ساختار سازمانی</td>\n",
       "      <td>ساختار سازمانی چیست؟</td>\n",
       "    </tr>\n",
       "    <tr>\n",
       "      <th>74</th>\n",
       "      <td>الهام ناصری</td>\n",
       "      <td>&lt;div class=\"entry-content clearfix single-post...</td>\n",
       "      <td>[{'content': ['دفترچه واقعا رمان زیباییه من زب...</td>\n",
       "      <td>2018-12-15T15:13:03+03:30</td>\n",
       "      <td>-</td>\n",
       "      <td>128215-%d8%a8%d9%87%d8%aa%d8%b1%db%8c%d9%86-%d...</td>\n",
       "      <td>رابطه عاشقانه,رمان عاشقانه,معرفی رمان</td>\n",
       "      <td>بهترین رمان های عاشقانه که حس عشق را در شما زن...</td>\n",
       "    </tr>\n",
       "    <tr>\n",
       "      <th>67</th>\n",
       "      <td>محمد رحمانی</td>\n",
       "      <td>&lt;div class=\"entry-content clearfix single-post...</td>\n",
       "      <td>[{'content': ['👌'], 'publish': ['1399-07-12\\\\1...</td>\n",
       "      <td>2018-12-15T10:39:24+03:30</td>\n",
       "      <td>-</td>\n",
       "      <td>152456-%d9%85%d8%b9%d8%b1%d9%88%d9%81-%d8%aa%d...</td>\n",
       "      <td>NaN</td>\n",
       "      <td>معروف ترین آشپزهای جهان که در حرفه‌ خود بهترین...</td>\n",
       "    </tr>\n",
       "    <tr>\n",
       "      <th>135</th>\n",
       "      <td>مانی حدادی</td>\n",
       "      <td>&lt;div class=\"entry-content clearfix single-post...</td>\n",
       "      <td>[{'content': ['چرا پراید تو این لیست وجود ندار...</td>\n",
       "      <td>2018-06-23T09:30:18+04:30</td>\n",
       "      <td>-</td>\n",
       "      <td>105756-%d8%a7%db%8c%d9%85%d9%86-%d8%aa%d8%b1%d...</td>\n",
       "      <td>تجهیزات خودرو,دانستنی های خودرو,سیستم ماشین</td>\n",
       "      <td>ایمن ترین خودروها در دنیا را بشناسید</td>\n",
       "    </tr>\n",
       "  </tbody>\n",
       "</table>\n",
       "</div>"
      ],
      "text/plain": [
       "            author                                               body  \\\n",
       "383    فاطمه زنگنه  <div class=\"entry-content clearfix single-post...   \n",
       "314  حسام حسین پور  <div class=\"entry-content clearfix single-post...   \n",
       "74     الهام ناصری  <div class=\"entry-content clearfix single-post...   \n",
       "67     محمد رحمانی  <div class=\"entry-content clearfix single-post...   \n",
       "135     مانی حدادی  <div class=\"entry-content clearfix single-post...   \n",
       "\n",
       "                                              comments  \\\n",
       "383  [{'content': ['سلام مطالب مفید بودند ولی من فر...   \n",
       "314                                               [{}]   \n",
       "74   [{'content': ['دفترچه واقعا رمان زیباییه من زب...   \n",
       "67   [{'content': ['👌'], 'publish': ['1399-07-12\\\\1...   \n",
       "135  [{'content': ['چرا پراید تو این لیست وجود ندار...   \n",
       "\n",
       "                  lastmodified readin  \\\n",
       "383  2019-11-13T11:02:21+03:30      -   \n",
       "314  2017-09-18T15:25:42+04:30      -   \n",
       "74   2018-12-15T15:13:03+03:30      -   \n",
       "67   2018-12-15T10:39:24+03:30      -   \n",
       "135  2018-06-23T09:30:18+04:30      -   \n",
       "\n",
       "                                                  slug  \\\n",
       "383  182804-%d9%85%d8%a7%d9%87%db%8c-%d9%87%d8%a7%d...   \n",
       "314  28358-%d8%b3%d8%a7%d8%ae%d8%aa%d8%a7%d8%b1-%d8...   \n",
       "74   128215-%d8%a8%d9%87%d8%aa%d8%b1%db%8c%d9%86-%d...   \n",
       "67   152456-%d9%85%d8%b9%d8%b1%d9%88%d9%81-%d8%aa%d...   \n",
       "135  105756-%d8%a7%db%8c%d9%85%d9%86-%d8%aa%d8%b1%d...   \n",
       "\n",
       "                                            tags  \\\n",
       "383                                ترین های دنیا   \n",
       "314                 رهبری سازمانی,ساختار سازمانی   \n",
       "74         رابطه عاشقانه,رمان عاشقانه,معرفی رمان   \n",
       "67                                           NaN   \n",
       "135  تجهیزات خودرو,دانستنی های خودرو,سیستم ماشین   \n",
       "\n",
       "                                                 title  \n",
       "383  ۲۵ نوع از پرطرفدارترین ماهی های آکواریومی و شر...  \n",
       "314                               ساختار سازمانی چیست؟  \n",
       "74   بهترین رمان های عاشقانه که حس عشق را در شما زن...  \n",
       "67   معروف ترین آشپزهای جهان که در حرفه‌ خود بهترین...  \n",
       "135               ایمن ترین خودروها در دنیا را بشناسید  "
      ]
     },
     "execution_count": 2,
     "metadata": {},
     "output_type": "execute_result"
    }
   ],
   "source": [
    "data = pd.read_csv('raw_data.csv')\n",
    "sample = data.sample(n=10, random_state=44)\n",
    "sample.head()\n"
   ]
  },
  {
   "cell_type": "markdown",
   "metadata": {},
   "source": [
    "### پردازش متون جمع آوری شده "
   ]
  },
  {
   "cell_type": "code",
   "execution_count": 3,
   "metadata": {},
   "outputs": [],
   "source": [
    "stopwords_path = 'stopwords.txt'\n",
    "def eliminate_non_persian_chars(text):\n",
    "    space_codepoints ='\\u0020\\u2000-\\u200F\\u2028-\\u202F'\n",
    "    persian_alpha_codepoints = '\\u0621-\\u0628\\u062A-\\u063A\\u0641-\\u0642\\u0644-\\u0648\\u064E-\\u0651\\u0655\\u067E\\u0686\\u0698\\u06A9\\u06AF\\u06BE\\u06CC'\n",
    "    regex = re.compile(f'[^{persian_alpha_codepoints+space_codepoints}]')\n",
    "    persian_text = regex.sub('', text)\n",
    "    regex = re.compile('\\s+')\n",
    "    output_text = regex.sub(' ', persian_text)\n",
    "    return output_text\n",
    "def eliminate_stopwords(text):\n",
    "    stopwords = open(stopwords_path, 'r', encoding='utf-8').read().split('\\n')\n",
    "    stopwords = [item.strip() for item in stopwords]\n",
    "    tokenized = text.split(' ')\n",
    "    output_text = []\n",
    "    for token in tokenized:\n",
    "        if token not in stopwords:\n",
    "            output_text.append(token)\n",
    "    return ' '.join(output_text)"
   ]
  },
  {
   "cell_type": "code",
   "execution_count": 4,
   "metadata": {},
   "outputs": [
    {
     "data": {
      "application/vnd.jupyter.widget-view+json": {
       "model_id": "faedc2959ea54290b3db3ae98532e625",
       "version_major": 2,
       "version_minor": 0
      },
      "text/plain": [
       "HBox(children=(HTML(value=''), FloatProgress(value=0.0, max=671.0), HTML(value='')))"
      ]
     },
     "metadata": {},
     "output_type": "display_data"
    },
    {
     "name": "stdout",
     "output_type": "stream",
     "text": [
      "\n"
     ]
    }
   ],
   "source": [
    "data['cleaned_body'] = data.body.progress_apply(\n",
    "                            lambda text:eliminate_stopwords(eliminate_non_persian_chars(text)))"
   ]
  },
  {
   "cell_type": "markdown",
   "metadata": {},
   "source": [
    "### مشخص کردن عبارت های کلیدی"
   ]
  },
  {
   "cell_type": "code",
   "execution_count": 5,
   "metadata": {},
   "outputs": [],
   "source": [
    "def keyphrases(text):\n",
    "    # static parts \n",
    "    url = \"http://api.cicap.ir/keyphrase/v1.0/rapiddetect\"\n",
    "    method = \"POST\"\n",
    "    headers = {\n",
    "        'Content-Type': 'text/plain'\n",
    "    }\n",
    "    # dynamic part \n",
    "    payload='''{\\r\\\"param\\\":\\\"\n",
    "               {\\\\\\\"lang\\\\\\\":\\\\\\\"fa\\\\\\\",\\\\\\\"docType\\\\\\\":\\\\\\\"1\\\\\\\",\n",
    "               \\\\\\\"docTitle\\\\\\\":\\\\\\\"\\\\\\\",\\\\\\\"docSummary\\\\\\\":\\\\\\\"\\\\\\\",\n",
    "               \\\\\\\"docBody\\\\\\\":\\\\\\\"%s\\\\\\\"}\\\",\n",
    "               \\\"token\\\":\\\"11111111-1111-1111-1111-111111111111\\\",\n",
    "               \\\"priority\\\":1,\n",
    "               \\\"senderAddress\\\":\\\"sampleAddress.com\\\"}'''%(text)\n",
    "    response = requests.request(method, url, headers=headers, data=payload.encode('utf-8'))\n",
    "    \n",
    "    try:\n",
    "        data = response.json()\n",
    "        data = eval(eval(data['data'])['result'])['keyPhrase']\n",
    "        phrases = [item['key'] for item in data]\n",
    "        return phrases\n",
    "    except:\n",
    "        return []\n",
    "    \n"
   ]
  },
  {
   "cell_type": "code",
   "execution_count": null,
   "metadata": {},
   "outputs": [
    {
     "data": {
      "application/vnd.jupyter.widget-view+json": {
       "model_id": "a88978c7babf442a8da2b07806d326eb",
       "version_major": 2,
       "version_minor": 0
      },
      "text/plain": [
       "HBox(children=(HTML(value=''), FloatProgress(value=0.0, max=671.0), HTML(value='')))"
      ]
     },
     "metadata": {},
     "output_type": "display_data"
    }
   ],
   "source": [
    "data['key_phrases'] = data.cleaned_body.progress_apply(\n",
    "                            lambda text:keyphrases(text))"
   ]
  },
  {
   "cell_type": "markdown",
   "metadata": {},
   "source": [
    "### ذخیره سازی داده ها"
   ]
  },
  {
   "cell_type": "code",
   "execution_count": 10,
   "metadata": {},
   "outputs": [
    {
     "data": {
      "text/plain": [
       "22301"
      ]
     },
     "execution_count": 10,
     "metadata": {},
     "output_type": "execute_result"
    }
   ],
   "source": [
    "# data.to_csv('new_data.csv')"
   ]
  },
  {
   "cell_type": "markdown",
   "metadata": {},
   "source": [
    "### خواندن دادگان برای آزمایش اصلی"
   ]
  },
  {
   "cell_type": "code",
   "execution_count": 7,
   "metadata": {},
   "outputs": [
    {
     "name": "stderr",
     "output_type": "stream",
     "text": [
      "100%|█████████████████████████████████████████████████████████████████████████████████| 46/46 [00:00<00:00, 368.00it/s]\n"
     ]
    }
   ],
   "source": [
    "df = pd.read_csv('proper_data.csv')\n",
    "df = df[df['lastmodified']!='lastmodified']\n",
    "df['bin'] = df['lastmodified'].apply(\n",
    "    lambda x:' '.join(x.split('-')[:2]))\n",
    "grouped = df.groupby('bin')\n",
    "result = []\n",
    "for group_name, df_group in tqdm(grouped):\n",
    "    tags = df_group.tags.to_list()\n",
    "    tags = Counter(tags)\n",
    "    keyphrases = df_group.key_phrases.apply(lambda x:eval(x)).to_list()\n",
    "    keyphrases = [item for sublist in keyphrases for item in sublist]\n",
    "    keyphrases = Counter(keyphrases)\n",
    "    keyphrases = {k: v for k, v in sorted(keyphrases.items(), \n",
    "                                          key=lambda item: item[1],\n",
    "                                          reverse=True)}\n",
    "    raw_tags = {}; counter=0\n",
    "    for k, v in keyphrases.items():\n",
    "        counter+=1\n",
    "        if counter>len(keyphrases)//5 or counter>=20:\n",
    "            break\n",
    "        raw_tags[k]=v\n",
    "    result.append([group_name, list(raw_tags.keys()), list(tags.keys())])\n",
    "result_df = pd.DataFrame(result, columns =['زمان انتشار', 'برچسب های اصلی', 'برچسب های پیش بینی شده']) "
   ]
  },
  {
   "cell_type": "code",
   "execution_count": 8,
   "metadata": {},
   "outputs": [
    {
     "data": {
      "text/html": [
       "<div>\n",
       "<style scoped>\n",
       "    .dataframe tbody tr th:only-of-type {\n",
       "        vertical-align: middle;\n",
       "    }\n",
       "\n",
       "    .dataframe tbody tr th {\n",
       "        vertical-align: top;\n",
       "    }\n",
       "\n",
       "    .dataframe thead th {\n",
       "        text-align: right;\n",
       "    }\n",
       "</style>\n",
       "<table border=\"1\" class=\"dataframe\">\n",
       "  <thead>\n",
       "    <tr style=\"text-align: right;\">\n",
       "      <th></th>\n",
       "      <th>زمان انتشار</th>\n",
       "      <th>برچسب های اصلی</th>\n",
       "      <th>برچسب های پیش بینی شده</th>\n",
       "    </tr>\n",
       "  </thead>\n",
       "  <tbody>\n",
       "    <tr>\n",
       "      <th>6</th>\n",
       "      <td>2017 08</td>\n",
       "      <td>[مشکلات جلسه مطرح جلسه, جلسه جلسه, یادآوری جلس...</td>\n",
       "      <td>[ارتباط موثر,اصول سخنرانی,طرز صحبت کردن, ارگون...</td>\n",
       "    </tr>\n",
       "    <tr>\n",
       "      <th>5</th>\n",
       "      <td>2017 06</td>\n",
       "      <td>[سلامتی کار زندگی آزادی, زندگی مرور کلیدهای مو...</td>\n",
       "      <td>[افراد موفق,ایجاد انگیزه,عبارات الهام بخش, موف...</td>\n",
       "    </tr>\n",
       "    <tr>\n",
       "      <th>15</th>\n",
       "      <td>2018 06</td>\n",
       "      <td>[زندگی تان مشاهده کتاب الکترونیکی, کنیداین کتا...</td>\n",
       "      <td>[nan, گران ترین کشورها, زنان قدرتمند,زنان موفق...</td>\n",
       "    </tr>\n",
       "    <tr>\n",
       "      <th>39</th>\n",
       "      <td>2020 06</td>\n",
       "      <td>[هدف زندگی عشق ورزیدن, هدف زندگی دوست حقیقی, پ...</td>\n",
       "      <td>[افزایش انگیزه, ذهن آرام,ذهن قدرتمند,لذت زندگی...</td>\n",
       "    </tr>\n",
       "    <tr>\n",
       "      <th>31</th>\n",
       "      <td>2019 10</td>\n",
       "      <td>[خواص ماسک, حیوانات دنیا واقعا خطرناک, فهرست خ...</td>\n",
       "      <td>[عجایب دنیا,ناشناخته های جهان, درمان بیماری ها...</td>\n",
       "    </tr>\n",
       "    <tr>\n",
       "      <th>30</th>\n",
       "      <td>2019 09</td>\n",
       "      <td>[خرید خرید صورت عمده, زمان خرید بودجه خریدتان,...</td>\n",
       "      <td>[آموزش پس انداز,برنامه ریزی مالی,صرفه جویی,مدی...</td>\n",
       "    </tr>\n",
       "    <tr>\n",
       "      <th>26</th>\n",
       "      <td>2019 05</td>\n",
       "      <td>[کیک کالری گرم, چربی گرم چربی اشباع نشده, چربی...</td>\n",
       "      <td>[دسرها,غذای کربوهیدرات دار, انواع سردرد,حالت ت...</td>\n",
       "    </tr>\n",
       "    <tr>\n",
       "      <th>11</th>\n",
       "      <td>2018 02</td>\n",
       "      <td>[آسان ترین کشورها مهاجرت ایتالیا, مهاجران پروس...</td>\n",
       "      <td>[مهاجرت آسان, قیمت خودرو, عشق ورزیدن,منتخب سرد...</td>\n",
       "    </tr>\n",
       "    <tr>\n",
       "      <th>17</th>\n",
       "      <td>2018 08</td>\n",
       "      <td>[جاذبه دیدنی نصف جهان, شادتر زندگی مجموعه صوتی...</td>\n",
       "      <td>[منتخب سردبیر,مهاجرت آسان,مهاجرت ارزان, مهاجرت...</td>\n",
       "    </tr>\n",
       "    <tr>\n",
       "      <th>27</th>\n",
       "      <td>2019 06</td>\n",
       "      <td>[فیلم خنده دار, فیلم تأثیرگذاری زندگی زنی, لیس...</td>\n",
       "      <td>[سرگرمی,فیلم سینمایی,معرفی فیلم, داستان جنگ,فی...</td>\n",
       "    </tr>\n",
       "  </tbody>\n",
       "</table>\n",
       "</div>"
      ],
      "text/plain": [
       "   زمان انتشار                                     برچسب های اصلی  \\\n",
       "6      2017 08  [مشکلات جلسه مطرح جلسه, جلسه جلسه, یادآوری جلس...   \n",
       "5      2017 06  [سلامتی کار زندگی آزادی, زندگی مرور کلیدهای مو...   \n",
       "15     2018 06  [زندگی تان مشاهده کتاب الکترونیکی, کنیداین کتا...   \n",
       "39     2020 06  [هدف زندگی عشق ورزیدن, هدف زندگی دوست حقیقی, پ...   \n",
       "31     2019 10  [خواص ماسک, حیوانات دنیا واقعا خطرناک, فهرست خ...   \n",
       "30     2019 09  [خرید خرید صورت عمده, زمان خرید بودجه خریدتان,...   \n",
       "26     2019 05  [کیک کالری گرم, چربی گرم چربی اشباع نشده, چربی...   \n",
       "11     2018 02  [آسان ترین کشورها مهاجرت ایتالیا, مهاجران پروس...   \n",
       "17     2018 08  [جاذبه دیدنی نصف جهان, شادتر زندگی مجموعه صوتی...   \n",
       "27     2019 06  [فیلم خنده دار, فیلم تأثیرگذاری زندگی زنی, لیس...   \n",
       "\n",
       "                               برچسب های پیش بینی شده  \n",
       "6   [ارتباط موثر,اصول سخنرانی,طرز صحبت کردن, ارگون...  \n",
       "5   [افراد موفق,ایجاد انگیزه,عبارات الهام بخش, موف...  \n",
       "15  [nan, گران ترین کشورها, زنان قدرتمند,زنان موفق...  \n",
       "39  [افزایش انگیزه, ذهن آرام,ذهن قدرتمند,لذت زندگی...  \n",
       "31  [عجایب دنیا,ناشناخته های جهان, درمان بیماری ها...  \n",
       "30  [آموزش پس انداز,برنامه ریزی مالی,صرفه جویی,مدی...  \n",
       "26  [دسرها,غذای کربوهیدرات دار, انواع سردرد,حالت ت...  \n",
       "11  [مهاجرت آسان, قیمت خودرو, عشق ورزیدن,منتخب سرد...  \n",
       "17  [منتخب سردبیر,مهاجرت آسان,مهاجرت ارزان, مهاجرت...  \n",
       "27  [سرگرمی,فیلم سینمایی,معرفی فیلم, داستان جنگ,فی...  "
      ]
     },
     "execution_count": 8,
     "metadata": {},
     "output_type": "execute_result"
    }
   ],
   "source": [
    "result_df.sample(n=10, random_state=44)"
   ]
  },
  {
   "cell_type": "code",
   "execution_count": 5,
   "metadata": {},
   "outputs": [],
   "source": [
    "result_df.to_excel('result.xlsx')"
   ]
  }
 ],
 "metadata": {
  "kernelspec": {
   "display_name": "Python 3",
   "language": "python",
   "name": "python3"
  },
  "language_info": {
   "codemirror_mode": {
    "name": "ipython",
    "version": 3
   },
   "file_extension": ".py",
   "mimetype": "text/x-python",
   "name": "python",
   "nbconvert_exporter": "python",
   "pygments_lexer": "ipython3",
   "version": "3.8.5"
  }
 },
 "nbformat": 4,
 "nbformat_minor": 4
}
