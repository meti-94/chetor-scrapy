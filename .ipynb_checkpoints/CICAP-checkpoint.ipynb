{
 "cells": [
  {
   "cell_type": "code",
   "execution_count": 1,
   "metadata": {},
   "outputs": [
    {
     "name": "stderr",
     "output_type": "stream",
     "text": [
      "C:\\Users\\meti\\anaconda3\\envs\\cicap_presentation\\lib\\site-packages\\tqdm\\std.py:699: FutureWarning: The Panel class is removed from pandas. Accessing it from the top-level namespace will also be removed in the next version\n",
      "  from pandas import Panel\n"
     ]
    }
   ],
   "source": [
    "import pandas as pd\n",
    "# from hazm import Normalizer\n",
    "import re\n",
    "import requests\n",
    "import json\n",
    "from tqdm import tqdm, notebook\n",
    "notebook.tqdm.pandas()"
   ]
  },
  {
   "cell_type": "markdown",
   "metadata": {},
   "source": [
    "### خواندن دادگان از فایل"
   ]
  },
  {
   "cell_type": "code",
   "execution_count": 2,
   "metadata": {},
   "outputs": [
    {
     "name": "stdout",
     "output_type": "stream",
     "text": [
      "671\n",
      "671\n"
     ]
    }
   ],
   "source": [
    "data = pd.read_csv('chetor.csv')\n",
    "print(len(data))\n",
    "data = data.dropna(subset=['body', 'lastmodified'])\n",
    "sample = data.sample(n=1)\n",
    "print(len(data))"
   ]
  },
  {
   "cell_type": "markdown",
   "metadata": {},
   "source": [
    "### پردازش متون جمع آوری شده "
   ]
  },
  {
   "cell_type": "code",
   "execution_count": 3,
   "metadata": {},
   "outputs": [],
   "source": [
    "stopwords_path = 'stopwords.txt'\n",
    "def eliminate_non_persian_chars(text):\n",
    "    space_codepoints ='\\u0020\\u2000-\\u200F\\u2028-\\u202F'\n",
    "    persian_alpha_codepoints = '\\u0621-\\u0628\\u062A-\\u063A\\u0641-\\u0642\\u0644-\\u0648\\u064E-\\u0651\\u0655\\u067E\\u0686\\u0698\\u06A9\\u06AF\\u06BE\\u06CC'\n",
    "    regex = re.compile(f'[^{persian_alpha_codepoints+space_codepoints}]')\n",
    "    persian_text = regex.sub('', text)\n",
    "    regex = re.compile('\\s+')\n",
    "    output_text = regex.sub(' ', persian_text)\n",
    "    return output_text\n",
    "def eliminate_stopwords(text):\n",
    "    stopwords = open(stopwords_path, 'r', encoding='utf-8').read().split('\\n')\n",
    "    stopwords = [item.strip() for item in stopwords]\n",
    "    tokenized = text.split(' ')\n",
    "    output_text = []\n",
    "    for token in tokenized:\n",
    "        if token not in stopwords:\n",
    "            output_text.append(token)\n",
    "    return ' '.join(output_text)"
   ]
  },
  {
   "cell_type": "markdown",
   "metadata": {},
   "source": [
    "### مشخص کردن موجودیت های نامدار"
   ]
  },
  {
   "cell_type": "code",
   "execution_count": 4,
   "metadata": {},
   "outputs": [],
   "source": [
    "def keyphrases(text):\n",
    "    # static parts \n",
    "    url = \"http://api.cicap.ir/keyphrase/v1.0/rapiddetect\"\n",
    "    method = \"POST\"\n",
    "    headers = {\n",
    "        'Content-Type': 'text/plain'\n",
    "    }\n",
    "    # dynamic part \n",
    "    payload='''{\\r\\\"param\\\":\\\"\n",
    "               {\\\\\\\"lang\\\\\\\":\\\\\\\"fa\\\\\\\",\\\\\\\"docType\\\\\\\":\\\\\\\"1\\\\\\\",\n",
    "               \\\\\\\"docTitle\\\\\\\":\\\\\\\"\\\\\\\",\\\\\\\"docSummary\\\\\\\":\\\\\\\"\\\\\\\",\n",
    "               \\\\\\\"docBody\\\\\\\":\\\\\\\"%s\\\\\\\"}\\\",\n",
    "               \\\"token\\\":\\\"11111111-1111-1111-1111-111111111111\\\",\n",
    "               \\\"priority\\\":1,\n",
    "               \\\"senderAddress\\\":\\\"sampleAddress.com\\\"}'''%(text)\n",
    "    response = requests.request(method, url, headers=headers, data=payload.encode('utf-8'))\n",
    "    \n",
    "    try:\n",
    "        data = response.json()\n",
    "        data = eval(eval(data['data'])['result'])['keyPhrase']\n",
    "        phrases = [item['key'] for item in data]\n",
    "        return phrases\n",
    "    except:\n",
    "        return []\n",
    "    \n"
   ]
  },
  {
   "cell_type": "code",
   "execution_count": 5,
   "metadata": {},
   "outputs": [
    {
     "data": {
      "application/vnd.jupyter.widget-view+json": {
       "model_id": "ae03e5cf859b421f99a502359f5b9fdb",
       "version_major": 2,
       "version_minor": 0
      },
      "text/plain": [
       "HBox(children=(HTML(value=''), FloatProgress(value=0.0, max=671.0), HTML(value='')))"
      ]
     },
     "metadata": {},
     "output_type": "display_data"
    },
    {
     "name": "stdout",
     "output_type": "stream",
     "text": [
      "\n"
     ]
    }
   ],
   "source": [
    "data['cleaned_body'] = data.body.progress_apply(\n",
    "                            lambda text:eliminate_stopwords(eliminate_non_persian_chars(text)))"
   ]
  },
  {
   "cell_type": "code",
   "execution_count": 6,
   "metadata": {},
   "outputs": [
    {
     "name": "stdout",
     "output_type": "stream",
     "text": [
      "671\n",
      "671\n"
     ]
    }
   ],
   "source": [
    "print(len(data))\n",
    "data = data.dropna(subset=['body', 'cleaned_body', 'lastmodified'])\n",
    "print(len(data))"
   ]
  },
  {
   "cell_type": "code",
   "execution_count": 7,
   "metadata": {},
   "outputs": [
    {
     "data": {
      "application/vnd.jupyter.widget-view+json": {
       "model_id": "f4c665468c4440e686b6c01d02800ad5",
       "version_major": 2,
       "version_minor": 0
      },
      "text/plain": [
       "HBox(children=(HTML(value=''), FloatProgress(value=0.0, max=671.0), HTML(value='')))"
      ]
     },
     "metadata": {},
     "output_type": "display_data"
    },
    {
     "name": "stdout",
     "output_type": "stream",
     "text": [
      "\n"
     ]
    }
   ],
   "source": [
    "data['key_phrases'] = data.cleaned_body.progress_apply(\n",
    "                            lambda text:keyphrases(text))"
   ]
  },
  {
   "cell_type": "code",
   "execution_count": 11,
   "metadata": {},
   "outputs": [],
   "source": [
    "data.to_csv('proper_data.csv')"
   ]
  },
  {
   "cell_type": "code",
   "execution_count": 12,
   "metadata": {},
   "outputs": [
    {
     "data": {
      "text/html": [
       "<div>\n",
       "<style scoped>\n",
       "    .dataframe tbody tr th:only-of-type {\n",
       "        vertical-align: middle;\n",
       "    }\n",
       "\n",
       "    .dataframe tbody tr th {\n",
       "        vertical-align: top;\n",
       "    }\n",
       "\n",
       "    .dataframe thead th {\n",
       "        text-align: right;\n",
       "    }\n",
       "</style>\n",
       "<table border=\"1\" class=\"dataframe\">\n",
       "  <thead>\n",
       "    <tr style=\"text-align: right;\">\n",
       "      <th></th>\n",
       "      <th>Unnamed: 0</th>\n",
       "      <th>author</th>\n",
       "      <th>body</th>\n",
       "      <th>comments</th>\n",
       "      <th>lastmodified</th>\n",
       "      <th>readin</th>\n",
       "      <th>slug</th>\n",
       "      <th>tags</th>\n",
       "      <th>title</th>\n",
       "      <th>cleaned_body</th>\n",
       "      <th>key_phrases</th>\n",
       "    </tr>\n",
       "  </thead>\n",
       "  <tbody>\n",
       "    <tr>\n",
       "      <th>0</th>\n",
       "      <td>0</td>\n",
       "      <td>بهاره رضاجو</td>\n",
       "      <td>\\n[پروبیوتیک ها](https://www.chetor.com/tag/%d...</td>\n",
       "      <td>[{}]</td>\n",
       "      <td>2020-12-04T19:37:30+03:30</td>\n",
       "      <td>-</td>\n",
       "      <td>212124-%d9%85%da%a9%d9%85%d9%84-%d9%be%d8%b1%d...</td>\n",
       "      <td>انواع داروها,پروبیوتیک ها,سلامت گوارش</td>\n",
       "      <td>انواع مکمل های پروبیوتیک و مزایای آنها؛ معرفی ...</td>\n",
       "      <td>پروبیوتیک ها توجه دانشمندان خودشان جلب کرده‌ان...</td>\n",
       "      <td>['کنترل اسهال مصرف پروبیوتیک ها', 'مصرف مکمل ه...</td>\n",
       "    </tr>\n",
       "    <tr>\n",
       "      <th>1</th>\n",
       "      <td>1</td>\n",
       "      <td>مینا رهبری</td>\n",
       "      <td>\\nسرعت شیوع [ویروس کرونا](https://www.chetor.c...</td>\n",
       "      <td>[{}]</td>\n",
       "      <td>2020-12-16T14:53:36+03:30</td>\n",
       "      <td>-</td>\n",
       "      <td>213101-%d9%84%d8%b0%d8%aa-%d8%b2%d9%86%d8%af%d...</td>\n",
       "      <td>رضایت از زندگی,زندگی شاد,لذت زندگی کردن,ویروس ...</td>\n",
       "      <td>چطور باوجود همه‌گیری ویروس کرونا از زندگی لذت ...</td>\n",
       "      <td>سرعت شیوع ویروس کرونا به‌قدری مبارزه‌ای ماراتن...</td>\n",
       "      <td>['همه گیری ویروس کرونا زندگی', 'تعادل کار زندگ...</td>\n",
       "    </tr>\n",
       "    <tr>\n",
       "      <th>2</th>\n",
       "      <td>2</td>\n",
       "      <td>فرناز تاج‌بخش</td>\n",
       "      <td>\\nیکی از سؤالات رایج مبتلایان به [کووید ۱۹](ht...</td>\n",
       "      <td>[{}]</td>\n",
       "      <td>2020-11-23T23:42:05+03:30</td>\n",
       "      <td>-</td>\n",
       "      <td>212688-%d8%a8%d8%a7%db%8c%d8%af-%d9%88-%d9%86%...</td>\n",
       "      <td>NaN</td>\n",
       "      <td>باید و نبایدهای رژیم غذایی بیماران کرونایی؛ اگ...</td>\n",
       "      <td>سؤالات رایج مبتلایان کووید رژیم غذایی کرونا تغ...</td>\n",
       "      <td>['مواد غذایی مفید', 'وعده های غذایی تان حجم', ...</td>\n",
       "    </tr>\n",
       "    <tr>\n",
       "      <th>3</th>\n",
       "      <td>3</td>\n",
       "      <td>بهاره رضاجو</td>\n",
       "      <td>\\nسگ‌ها از دیرباز به‌عنوان نگهبان خانه و مزارع...</td>\n",
       "      <td>[{'content': ['سلام وقتتون بخیر. ممنون از مطلب...</td>\n",
       "      <td>2020-10-17T18:48:38+03:30</td>\n",
       "      <td>-</td>\n",
       "      <td>208936-%d9%87%d8%b2%db%8c%d9%86%d9%87-%d9%86%d...</td>\n",
       "      <td>Need to update,نگهداری از حیوانات,نگهداری سگ</td>\n",
       "      <td>هزینه نگهداری سگ چقدر است؟ لیست کامل هزینه‌ها ...</td>\n",
       "      <td>سگ‌ها دیرباز به‌عنوان نگهبان خانه مزارع گله هم...</td>\n",
       "      <td>['سگ هزینه غذای سگ', 'نگهداری سگ اسباب بازی سگ...</td>\n",
       "    </tr>\n",
       "    <tr>\n",
       "      <th>4</th>\n",
       "      <td>4</td>\n",
       "      <td>فرناز آشفته‌فرد</td>\n",
       "      <td>\\nهمان‌طور که [تکنولوژی](https://www.chetor.co...</td>\n",
       "      <td>[{'content': ['سلام',\\n             '\\nمطالب ب...</td>\n",
       "      <td>2020-11-21T16:55:52+03:30</td>\n",
       "      <td>-</td>\n",
       "      <td>199462-%d8%b9%d8%a7%d8%af%d8%aa-%d9%85%d9%88%d...</td>\n",
       "      <td>افراد ثروتمند,پولدار شدن,عادات میلیونرها,موفقی...</td>\n",
       "      <td>۹ عادت موفقیت‌آمیز برای میلیاردر شدن که زندگی‌...</td>\n",
       "      <td>همان‌طور تکنولوژی درحال پیشرفت دستیابی اطلاعات...</td>\n",
       "      <td>['منبع درآمد میلیاردرها', 'کار مهارت های رهبری...</td>\n",
       "    </tr>\n",
       "  </tbody>\n",
       "</table>\n",
       "</div>"
      ],
      "text/plain": [
       "   Unnamed: 0           author  \\\n",
       "0           0      بهاره رضاجو   \n",
       "1           1       مینا رهبری   \n",
       "2           2    فرناز تاج‌بخش   \n",
       "3           3      بهاره رضاجو   \n",
       "4           4  فرناز آشفته‌فرد   \n",
       "\n",
       "                                                body  \\\n",
       "0  \\n[پروبیوتیک ها](https://www.chetor.com/tag/%d...   \n",
       "1  \\nسرعت شیوع [ویروس کرونا](https://www.chetor.c...   \n",
       "2  \\nیکی از سؤالات رایج مبتلایان به [کووید ۱۹](ht...   \n",
       "3  \\nسگ‌ها از دیرباز به‌عنوان نگهبان خانه و مزارع...   \n",
       "4  \\nهمان‌طور که [تکنولوژی](https://www.chetor.co...   \n",
       "\n",
       "                                            comments  \\\n",
       "0                                               [{}]   \n",
       "1                                               [{}]   \n",
       "2                                               [{}]   \n",
       "3  [{'content': ['سلام وقتتون بخیر. ممنون از مطلب...   \n",
       "4  [{'content': ['سلام',\\n             '\\nمطالب ب...   \n",
       "\n",
       "                lastmodified readin  \\\n",
       "0  2020-12-04T19:37:30+03:30      -   \n",
       "1  2020-12-16T14:53:36+03:30      -   \n",
       "2  2020-11-23T23:42:05+03:30      -   \n",
       "3  2020-10-17T18:48:38+03:30      -   \n",
       "4  2020-11-21T16:55:52+03:30      -   \n",
       "\n",
       "                                                slug  \\\n",
       "0  212124-%d9%85%da%a9%d9%85%d9%84-%d9%be%d8%b1%d...   \n",
       "1  213101-%d9%84%d8%b0%d8%aa-%d8%b2%d9%86%d8%af%d...   \n",
       "2  212688-%d8%a8%d8%a7%db%8c%d8%af-%d9%88-%d9%86%...   \n",
       "3  208936-%d9%87%d8%b2%db%8c%d9%86%d9%87-%d9%86%d...   \n",
       "4  199462-%d8%b9%d8%a7%d8%af%d8%aa-%d9%85%d9%88%d...   \n",
       "\n",
       "                                                tags  \\\n",
       "0              انواع داروها,پروبیوتیک ها,سلامت گوارش   \n",
       "1  رضایت از زندگی,زندگی شاد,لذت زندگی کردن,ویروس ...   \n",
       "2                                                NaN   \n",
       "3       Need to update,نگهداری از حیوانات,نگهداری سگ   \n",
       "4  افراد ثروتمند,پولدار شدن,عادات میلیونرها,موفقی...   \n",
       "\n",
       "                                               title  \\\n",
       "0  انواع مکمل های پروبیوتیک و مزایای آنها؛ معرفی ...   \n",
       "1  چطور باوجود همه‌گیری ویروس کرونا از زندگی لذت ...   \n",
       "2  باید و نبایدهای رژیم غذایی بیماران کرونایی؛ اگ...   \n",
       "3  هزینه نگهداری سگ چقدر است؟ لیست کامل هزینه‌ها ...   \n",
       "4  ۹ عادت موفقیت‌آمیز برای میلیاردر شدن که زندگی‌...   \n",
       "\n",
       "                                        cleaned_body  \\\n",
       "0  پروبیوتیک ها توجه دانشمندان خودشان جلب کرده‌ان...   \n",
       "1  سرعت شیوع ویروس کرونا به‌قدری مبارزه‌ای ماراتن...   \n",
       "2  سؤالات رایج مبتلایان کووید رژیم غذایی کرونا تغ...   \n",
       "3  سگ‌ها دیرباز به‌عنوان نگهبان خانه مزارع گله هم...   \n",
       "4  همان‌طور تکنولوژی درحال پیشرفت دستیابی اطلاعات...   \n",
       "\n",
       "                                         key_phrases  \n",
       "0  ['کنترل اسهال مصرف پروبیوتیک ها', 'مصرف مکمل ه...  \n",
       "1  ['همه گیری ویروس کرونا زندگی', 'تعادل کار زندگ...  \n",
       "2  ['مواد غذایی مفید', 'وعده های غذایی تان حجم', ...  \n",
       "3  ['سگ هزینه غذای سگ', 'نگهداری سگ اسباب بازی سگ...  \n",
       "4  ['منبع درآمد میلیاردرها', 'کار مهارت های رهبری...  "
      ]
     },
     "execution_count": 12,
     "metadata": {},
     "output_type": "execute_result"
    }
   ],
   "source": [
    "another = pd.read_csv('proper_data.csv')\n",
    "another.head()"
   ]
  },
  {
   "cell_type": "code",
   "execution_count": null,
   "metadata": {},
   "outputs": [],
   "source": [
    "from os import path\n",
    "\n",
    "from persian_wordcloud.wordcloud import PersianWordCloud, add_stop_words\n",
    "\n",
    "d = path.dirname(__file__)\n",
    "\n",
    "text = open(path.join(d, 'persian.txt'), encoding='utf-8').read()\n",
    "\n",
    "# Add another stopword\n",
    "stopwords = add_stop_words(['کاسپین'])\n",
    "# add_stop_words\n",
    "\n",
    "# Generate a word cloud image\n",
    "wordcloud = PersianWordCloud(\n",
    "    only_persian=True,\n",
    "    max_words=100,\n",
    "    stopwords=stopwords,\n",
    "    margin=0,\n",
    "    width=800,\n",
    "    height=800,\n",
    "    min_font_size=1,\n",
    "    max_font_size=500,\n",
    "    background_color=\"black\"\n",
    ").generate(text)\n",
    "\n",
    "image = wordcloud.to_image()\n",
    "image.show()\n",
    "image.save('result.png')"
   ]
  }
 ],
 "metadata": {
  "kernelspec": {
   "display_name": "Python 3",
   "language": "python",
   "name": "python3"
  },
  "language_info": {
   "codemirror_mode": {
    "name": "ipython",
    "version": 3
   },
   "file_extension": ".py",
   "mimetype": "text/x-python",
   "name": "python",
   "nbconvert_exporter": "python",
   "pygments_lexer": "ipython3",
   "version": "3.8.5"
  }
 },
 "nbformat": 4,
 "nbformat_minor": 4
}
